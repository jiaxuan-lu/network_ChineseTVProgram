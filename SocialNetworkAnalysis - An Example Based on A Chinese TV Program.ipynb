{
 "cells": [
  {
   "cell_type": "markdown",
   "metadata": {},
   "source": [
    "### Preparation"
   ]
  },
  {
   "cell_type": "markdown",
   "metadata": {},
   "source": [
    "\"Meeting You (遇见你真好)\" is a 2019 Chinese TV reality show. The program invited four single gentlemen and three single ladies to live in a villa in Shenzhen together. Every night, each of the participants provides the audience with the name of the person from the other gender as his/her most favorable person (only one name is allowed for each person). This social network analysis is based on the data from the first four nights. My objective is to analyze the role of each person in this small network. 'M1' to 'M4' are the four males; 'F1' to 'F3' are the three females."
   ]
  },
  {
   "cell_type": "code",
   "execution_count": 1,
   "metadata": {},
   "outputs": [],
   "source": [
    "import numpy as np\n",
    "import pandas as pd\n",
    "import networkx as nx"
   ]
  },
  {
   "cell_type": "code",
   "execution_count": 2,
   "metadata": {},
   "outputs": [],
   "source": [
    "A = nx.DiGraph() # A is the network.\n",
    "A.add_nodes_from(['M1', 'M2', 'M3', 'M4'], bipartite=0) # Four Gentlemen\n",
    "A.add_nodes_from(['F1', 'F2', 'F3'], bipartite=1) # Three Ladies"
   ]
  },
  {
   "cell_type": "code",
   "execution_count": 3,
   "metadata": {},
   "outputs": [],
   "source": [
    "A.add_edge('M1','F1',weight=0.25)\n",
    "A.add_edge('M1','F3',weight=0.75)\n",
    "A.add_edge('M2','F1',weight=0.25)\n",
    "A.add_edge('M2','F2',weight=0.25)\n",
    "A.add_edge('M2','F3',weight=0.5)\n",
    "A.add_edge('M3','F1',weight=0.5)\n",
    "A.add_edge('M3','F2',weight=0.25)\n",
    "A.add_edge('M3','F3',weight=0.25)\n",
    "A.add_edge('M4','F1',weight=0.25)\n",
    "A.add_edge('M4','F2',weight=0.75)\n",
    "A.add_edge('F1','M1',weight=0.5)\n",
    "A.add_edge('F1','M2',weight=0.25)\n",
    "A.add_edge('F1','M4',weight=0.25)\n",
    "A.add_edge('F2','M3',weight=0.5)\n",
    "A.add_edge('F2','M4',weight=0.5)\n",
    "A.add_edge('F3','M1',weight=0.75)\n",
    "A.add_edge('F3','M3',weight=0.25)"
   ]
  },
  {
   "cell_type": "markdown",
   "metadata": {},
   "source": [
    "### Analysis"
   ]
  },
  {
   "cell_type": "markdown",
   "metadata": {},
   "source": [
    "The following directed graph shows the relationship between the seven people. Suppose that 'M1' has claimed that he likes 'F1' at least once during the four nights, then there would be an arrow pointing from 'M1' to 'F1'. The graph shows all the arrows. Weights are calculated by the proportion of a person claiming another person to be the most favorable among all of the person's claims. For example, if 'M1' sets 'F1' as the most favorable person once, 'F3' three times, then the weight of the 'M1'-'F1' arrow is 1/4 = 0.25 and the weight of the 'M1'-'F3' arrow is 3/4 = 0.75."
   ]
  },
  {
   "cell_type": "code",
   "execution_count": 5,
   "metadata": {},
   "outputs": [
    {
     "data": {
      "image/png": "[encoded data removed]",
      "text/plain": [
       "<Figure size 432x288 with 1 Axes>"
      ]
     },
     "metadata": {},
     "output_type": "display_data"
    },
    {
     "data": {
      "text/plain": [
       "<Figure size 720x720 with 0 Axes>"
      ]
     },
     "metadata": {},
     "output_type": "display_data"
    },
    {
     "name": "stdout",
     "output_type": "stream",
     "text": [
      "          WEIGHT\n",
      "(M1, F1)    0.25\n",
      "(M1, F3)    0.75\n",
      "(M2, F1)    0.25\n",
      "(M2, F2)    0.25\n",
      "(M2, F3)    0.50\n",
      "(M3, F1)    0.50\n",
      "(M3, F2)    0.25\n",
      "(M3, F3)    0.25\n",
      "(M4, F1)    0.25\n",
      "(M4, F2)    0.75\n",
      "(F1, M1)    0.50\n",
      "(F1, M2)    0.25\n",
      "(F1, M4)    0.25\n",
      "(F2, M3)    0.50\n",
      "(F2, M4)    0.50\n",
      "(F3, M1)    0.75\n",
      "(F3, M3)    0.25\n"
     ]
    }
   ],
   "source": [
    "from networkx.algorithms import bipartite\n",
    "import matplotlib.pyplot as plt\n",
    "import random\n",
    "X, Y = bipartite.sets(A)\n",
    "pos = dict()\n",
    "pos.update((n, (1, i)) for i, n in enumerate(X))\n",
    "pos.update((n, (2, i)) for i, n in enumerate(Y))\n",
    "edges, w = zip(*nx.get_edge_attributes(A,'weight').items())\n",
    "nx.draw(A, pos=pos, node_color='yellow', node_size=1500, width=2.5)\n",
    "nx.draw_networkx_labels(A, pos, font_size=18, font_family='sans-serif', font_color ='b')\n",
    "plt.figure(figsize=(10,10))\n",
    "plt.show()\n",
    "print(pd.DataFrame(list(w), index=list(edges), columns=['WEIGHT']))"
   ]
  },
  {
   "cell_type": "markdown",
   "metadata": {},
   "source": [
    "#### 1. Popularity"
   ]
  },
  {
   "cell_type": "markdown",
   "metadata": {},
   "source": [
    "So who is the most popular person among the seven? And who is the most popular gentleman? Who is the most popular lady? The calculation of in-degree centrality proffers the results. A larger value of in-degree centrality means that that person is more popular than others."
   ]
  },
  {
   "cell_type": "code",
   "execution_count": 6,
   "metadata": {},
   "outputs": [
    {
     "data": {
      "text/plain": [
       "{'M1': 0.3333333333333333,\n",
       " 'M2': 0.16666666666666666,\n",
       " 'M3': 0.3333333333333333,\n",
       " 'M4': 0.3333333333333333,\n",
       " 'F1': 0.6666666666666666,\n",
       " 'F2': 0.5,\n",
       " 'F3': 0.5}"
      ]
     },
     "execution_count": 6,
     "metadata": {},
     "output_type": "execute_result"
    }
   ],
   "source": [
    "in_degree_centrality = nx.in_degree_centrality(A)\n",
    "in_degree_centrality"
   ]
  },
  {
   "cell_type": "markdown",
   "metadata": {},
   "source": [
    "As you can see, 'F1' is the most popular among all and, of course, among ladies. 'M1', 'M3' and 'M4' are equally popular. 'M2' is the least popular male. He is also the least popular among all. This is easy to find out as many people on the Internet argue that 'M2' is not good at dating girls."
   ]
  },
  {
   "cell_type": "markdown",
   "metadata": {},
   "source": [
    "#### 2. Hypothesized Scenario: Random Walk of a Gift"
   ]
  },
  {
   "cell_type": "markdown",
   "metadata": {},
   "source": [
    "Suppose there is a gift randomly given to a person among the seven. That person needs to give the gift to the person he/she likes. And then the receiver of the gift needs to give it the person he/she likes. This process repeats for multiple times. Suppose that the process repeats infinitely, what will be the probability for the gift landing on each person eventually? To answer this question, I simply apply the pagerank algorithm, which is based on the Markov Process model. The values corresponding to the person below are the probabilities."
   ]
  },
  {
   "cell_type": "code",
   "execution_count": 7,
   "metadata": {},
   "outputs": [
    {
     "data": {
      "text/plain": [
       "{'M1': 0.22212146320414447,\n",
       " 'M2': 0.0542755979053056,\n",
       " 'M3': 0.12077423629580764,\n",
       " 'M4': 0.10862164983184025,\n",
       " 'F1': 0.15457328014918129,\n",
       " 'F2': 0.12787239407357914,\n",
       " 'F3': 0.21176137854014176}"
      ]
     },
     "execution_count": 7,
     "metadata": {},
     "output_type": "execute_result"
    }
   ],
   "source": [
    "pagerank = nx.pagerank(A)\n",
    "pagerank"
   ]
  },
  {
   "cell_type": "markdown",
   "metadata": {},
   "source": [
    "Eventually, the gift will be most likely to be received by 'M1' and 'F3'. 'M2' has a very small probability to receive the gift eventually."
   ]
  }
 ],
 "metadata": {
  "kernelspec": {
   "display_name": "Python 3",
   "language": "python",
   "name": "python3"
  },
  "language_info": {
   "codemirror_mode": {
    "name": "ipython",
    "version": 3
   },
   "file_extension": ".py",
   "mimetype": "text/x-python",
   "name": "python",
   "nbconvert_exporter": "python",
   "pygments_lexer": "ipython3",
   "version": "3.6.5"
  }
 },
 "nbformat": 4,
 "nbformat_minor": 2
}
